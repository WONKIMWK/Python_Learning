{
 "cells": [
  {
   "cell_type": "markdown",
   "metadata": {},
   "source": [
    "# Working with Data in Python\n",
    "\n",
    "Concepts:\n",
    "* Understanding and using lists, dictionaries, and tuples\n",
    "* Reading and writing files\n",
    "* Introduction to the Pandas library"
   ]
  },
  {
   "cell_type": "markdown",
   "metadata": {},
   "source": [
    "## Lists\n",
    "\n",
    "A list is a collection of items that are stored in a specific order (Index number). Their properties are:\n",
    "* They are ordered, meaning that the items have a defined order, and you can access them by their index.\n",
    "* They are mutable, meaning that you can change the items after they have been created.\n",
    "* They can contain any type of data, including other lists."
   ]
  },
  {
   "cell_type": "code",
   "execution_count": null,
   "metadata": {},
   "outputs": [],
   "source": [
    "# Creating a list\n",
    "my_list = [] # empty list\n",
    "print(my_list)\n",
    "my_list = [1, 2, 3, 4, \"Hello\", 3.14] # list with elements\n",
    "print(my_list)"
   ]
  },
  {
   "cell_type": "code",
   "execution_count": null,
   "metadata": {},
   "outputs": [],
   "source": [
    "# Second list\n",
    "second_list = [1, 2, 3, \"Strings\", \"Floats(not)\",[\"Another\", \"List\", 1, 2]]\n",
    "\n",
    "print(second_list)\n",
    "\n",
    "print(second_list[3]) # Element 4\n",
    "print(second_list[0]) # Element 1"
   ]
  },
  {
   "cell_type": "code",
   "execution_count": null,
   "metadata": {},
   "outputs": [],
   "source": [
    "# Accessing elements\n",
    "print(my_list[0]) # 1\n",
    "print(my_list[4]) # Hello\n",
    "print(my_list[-1]) # 3.14 Start from the end\n",
    "print(my_list[-3]) # 4"
   ]
  },
  {
   "cell_type": "code",
   "execution_count": null,
   "metadata": {},
   "outputs": [],
   "source": [
    "# Adding elements\n",
    "my_list.append(10)\n",
    "print(my_list)\n",
    "my_list.insert(2, 20) # insert after 2nd element, \n",
    "print(my_list)\n",
    "my_list.insert(1, 30)\n",
    "print(my_list)\n",
    "my_list.extend([5, 6, 7])\n",
    "print(my_list)"
   ]
  },
  {
   "cell_type": "code",
   "execution_count": null,
   "metadata": {},
   "outputs": [],
   "source": [
    "# Removing elements\n",
    "my_list.remove(20) # give actual value you want to remove\n",
    "print(my_list)\n",
    "my_list.pop() # Remove the value (at the end)\n",
    "print(my_list) \n",
    "my_list.pop(2) # Remove the value (with index 2)\n",
    "print(my_list)\n",
    "del my_list[1] # Delete function, with index number, no recommend. \n",
    "print(my_list)"
   ]
  },
  {
   "cell_type": "code",
   "execution_count": null,
   "metadata": {},
   "outputs": [],
   "source": [
    "# Slicing\n",
    "print(my_list[1:3]) # extract the element from the index 1 to the index 2 (Stop at index 3)\n",
    "print(my_list[1:])\n",
    "print(my_list[:3])\n",
    "print(my_list[::2]) # grab every nth data from the beginnng\n",
    "print(my_list[::-1]) # Reverse order"
   ]
  },
  {
   "cell_type": "code",
   "execution_count": null,
   "metadata": {},
   "outputs": [],
   "source": [
    "my_list = [1, 2, 3, 4, 5, 6, 7, 8, 9]"
   ]
  },
  {
   "cell_type": "code",
   "execution_count": null,
   "metadata": {},
   "outputs": [],
   "source": [
    "# List Functions\n",
    "print(len(my_list))\n",
    "print(max(my_list))\n",
    "print(min(my_list))\n",
    "print(sum(my_list))"
   ]
  },
  {
   "cell_type": "code",
   "execution_count": null,
   "metadata": {},
   "outputs": [],
   "source": [
    "# Looping through a list\n",
    "# Print element in the list \n",
    "for element in my_list:\n",
    "    print(element)\n",
    "\n",
    "print(\"---\")\n",
    "# See the index that you are working with\n",
    "for index, element in enumerate(my_list):\n",
    "    print(index, element)"
   ]
  },
  {
   "cell_type": "code",
   "execution_count": null,
   "metadata": {},
   "outputs": [],
   "source": [
    "# Exercise\n",
    "my_list = [1, 2, 3, 4, 5, 6, 7, 8, 9, 10]\n",
    "## longer list\n",
    "#my_list = range[0, 100, 2]\n",
    "# Creat the list of even numbers\n",
    "even_list = my_list[1::2]\n",
    "print(even_list)\n",
    "print(\"------\")\n",
    "# Within the even list, Find which numbers are divisible by 3\n",
    "for numbers in even_list:\n",
    "    if numbers % 3 == 0:\n",
    "        print(numbers)\n",
    "print(\"------\")\n",
    "# Using with names\n",
    "name_list = [\"Avery\", \"Won\", \"Stewart\", \"Lumine\", \"Tom\", \"John\"]\n",
    "for name in name_list:\n",
    "    if \"e\" in name:\n",
    "        print(name)"
   ]
  },
  {
   "cell_type": "code",
   "execution_count": null,
   "metadata": {},
   "outputs": [],
   "source": [
    "# List Comprehension\n",
    "squared_list = [x**2 for x in my_list]\n",
    "print(squared_list)"
   ]
  },
  {
   "cell_type": "markdown",
   "metadata": {},
   "source": [
    "## Dictionaries\n",
    "\n",
    "A dictionary is a collection of key-value pairs. Their properties are:\n",
    "* They are unordered, meaning that the items do not have a defined order, and you cannot access them by their index.\n",
    "* They are mutable, meaning that you can change the items after they have been created.\n",
    "* They can contain any type of data, including other dictionaries."
   ]
  },
  {
   "cell_type": "code",
   "execution_count": null,
   "metadata": {},
   "outputs": [],
   "source": [
    "# Creating a dictionary\n",
    "my_dict = {} # empty dictionary\n",
    "print(my_dict)\n",
    "my_dict = {\"name\": \"John\", \"age\": 25, \"city\": \"New York\", 3: 3.14159} # dictionary with elements\n",
    "print(my_dict)\n",
    "print(my_dict[\"city\"])\n",
    "print(my_dict[3])"
   ]
  },
  {
   "cell_type": "code",
   "execution_count": null,
   "metadata": {},
   "outputs": [],
   "source": [
    "# Accessing elements\n",
    "print(my_dict[\"name\"]) # John\n",
    "print(my_dict[\"age\"]) # 25\n",
    "print(my_dict.get(\"city\")) # New York\n",
    "print(my_dict.get(\"country\")) # None (Does not exist) : Does not make any crashes."
   ]
  },
  {
   "cell_type": "code",
   "execution_count": null,
   "metadata": {},
   "outputs": [],
   "source": [
    "# Adding elements\n",
    "my_dict[\"country\"] = \"USA\"\n",
    "print(my_dict)\n",
    "my_dict.update({\"state\": \"NY\", \"zip\": 10001})\n",
    "print(my_dict)"
   ]
  },
  {
   "cell_type": "code",
   "execution_count": null,
   "metadata": {},
   "outputs": [],
   "source": [
    "# Removing elements\n",
    "my_dict.pop(\"zip\")\n",
    "print(my_dict)\n",
    "del my_dict[\"state\"]\n",
    "print(my_dict)"
   ]
  },
  {
   "cell_type": "code",
   "execution_count": null,
   "metadata": {},
   "outputs": [],
   "source": [
    "# Dictionary Functions\n",
    "print(len(my_dict)) # How many key pairs are\n",
    "print(my_dict.keys())\n",
    "print(my_dict.values())\n",
    "print(my_dict.items())"
   ]
  },
  {
   "cell_type": "code",
   "execution_count": null,
   "metadata": {},
   "outputs": [],
   "source": [
    "# Looping through a dictionary\n",
    "for key in my_dict:\n",
    "    print(key, my_dict[key])\n",
    "print(\"---\")\n",
    "for key, value in my_dict.items():\n",
    "    print(key, value)"
   ]
  },
  {
   "cell_type": "code",
   "execution_count": null,
   "metadata": {},
   "outputs": [],
   "source": [
    "# Dictionary Comprehension\n",
    "squared_dict = {x: x**2 for x in my_list}\n",
    "print(squared_dict)"
   ]
  },
  {
   "cell_type": "markdown",
   "metadata": {},
   "source": [
    "## Tuples\n",
    "\n",
    "A tuple is a collection of items that are stored in a specific order. Their properties are:\n",
    "* They are ordered, meaning that the items have a defined order, and you can access them by their index.\n",
    "* They are immutable, meaning that you cannot change the items after they have been created.\n",
    "* They can contain any type of data, including other tuples."
   ]
  },
  {
   "cell_type": "code",
   "execution_count": null,
   "metadata": {},
   "outputs": [],
   "source": [
    "# Creating a tuple\n",
    "my_tuple = () # empty tuple\n",
    "print(my_tuple)\n",
    "my_tuple = (1, 2, 3, 4, \"Hello\", 3.14) # tuple with elements\n",
    "print(my_tuple)"
   ]
  },
  {
   "cell_type": "code",
   "execution_count": null,
   "metadata": {},
   "outputs": [],
   "source": [
    "# Accessing elements\n",
    "print(my_tuple[0]) # 1\n",
    "print(my_tuple[-1]) # 3.14 Start from the end\n",
    "# Same as list"
   ]
  },
  {
   "cell_type": "code",
   "execution_count": null,
   "metadata": {},
   "outputs": [],
   "source": [
    "# Adding elements and removing elements\n",
    "# Tuples are immutable, so you can't add elements or remove elements"
   ]
  },
  {
   "cell_type": "code",
   "execution_count": null,
   "metadata": {},
   "outputs": [],
   "source": [
    "my_tuple = (1, 2, 3, 4, 5, 6, 7, 8, 9)"
   ]
  },
  {
   "cell_type": "code",
   "execution_count": null,
   "metadata": {},
   "outputs": [],
   "source": [
    "# Tuple Functions\n",
    "print(len(my_tuple))\n",
    "print(max(my_tuple))\n",
    "# Same as list"
   ]
  },
  {
   "cell_type": "code",
   "execution_count": null,
   "metadata": {},
   "outputs": [],
   "source": [
    "# Looping through a tuple\n",
    "for element in my_tuple:\n",
    "    print(element)\n",
    "# Same as list"
   ]
  },
  {
   "cell_type": "code",
   "execution_count": null,
   "metadata": {},
   "outputs": [],
   "source": [
    "# Exercise 2\n",
    "## Create the dictionaries with name, age\n",
    "Prac_dict_list = [\n",
    "    {\"name\" : \"Won\", \"age\": 30},\n",
    "    {\"name\": \"Avery\", \"age\" : 25},\n",
    "    {\"name\" : \"Jimmy\", \"age\": 35}\n",
    "                  ]\n",
    "# print(Prac_dict_list)\n",
    "## Print out only the names with a certain age range\n",
    "for person in Prac_dict_list:\n",
    "    print(person)\n",
    "    if person[\"age\"] >= 30 and person[\"age\"] <= 40:\n",
    "        print(person[\"name\"])"
   ]
  },
  {
   "cell_type": "markdown",
   "metadata": {},
   "source": [
    "## Reading and Writing Files\n",
    "\n",
    "Python has built-in functions for reading and writing files. The `open()` function is used to open a file, and the `read()` and `write()` methods are used to read and write data to the file.\n",
    "\n",
    "### File Usage Format\n",
    "\n",
    "```\n",
    "with open(filename, mode) as file_variable:\n",
    "    # code to read or write to the file\n",
    "```\n",
    "Modes:\n",
    "* `r`: read mode\n",
    "* `w`: write mode\n",
    "* `a`: append mode\n",
    "* `rb`: read binary mode\n",
    "* `wb`: write binary mode"
   ]
  },
  {
   "cell_type": "code",
   "execution_count": null,
   "metadata": {},
   "outputs": [],
   "source": [
    "# Writing to a file\n",
    "with open(\"file.txt\", \"w\") as file:\n",
    "    file.write(\"Hello, World!\")"
   ]
  },
  {
   "cell_type": "code",
   "execution_count": null,
   "metadata": {},
   "outputs": [],
   "source": [
    "# Outputting multiple lines\n",
    "lines = [\"Hello\", \"World\", \"How\", \"Are\", \"You\"]\n",
    "with open(\"file.txt\", \"w\") as file:\n",
    "    for line in lines:\n",
    "        file.write(line + \"\\n\")"
   ]
  },
  {
   "cell_type": "code",
   "execution_count": null,
   "metadata": {},
   "outputs": [],
   "source": [
    "# Appending to a file\n",
    "with open(\"file.txt\", \"a\") as file:\n",
    "    file.write(\"I am fine, thank you!\")"
   ]
  },
  {
   "cell_type": "code",
   "execution_count": 98,
   "metadata": {},
   "outputs": [
    {
     "name": "stdout",
     "output_type": "stream",
     "text": [
      "Hello\n",
      "World\n",
      "How\n",
      "Are\n",
      "You\n",
      "I am fine, thank you!\n"
     ]
    }
   ],
   "source": [
    "# Reading from a file\n",
    "with open(\"file.txt\", \"r\") as file:\n",
    "    content = file.read()\n",
    "    print(content)"
   ]
  },
  {
   "cell_type": "code",
   "execution_count": 99,
   "metadata": {},
   "outputs": [
    {
     "name": "stdout",
     "output_type": "stream",
     "text": [
      "Hello\n",
      "\n",
      "World\n",
      "\n",
      "How\n",
      "\n",
      "Are\n",
      "\n",
      "You\n",
      "\n",
      "I am fine, thank you!\n"
     ]
    }
   ],
   "source": [
    "# Reading from a file line by line\n",
    "with open(\"file.txt\", \"r\") as file:\n",
    "    for line in file:\n",
    "        print(line)"
   ]
  },
  {
   "cell_type": "code",
   "execution_count": 100,
   "metadata": {},
   "outputs": [
    {
     "name": "stdout",
     "output_type": "stream",
     "text": [
      "['Hello\\n', 'World\\n', 'How\\n', 'Are\\n', 'You\\n', 'I am fine, thank you!']\n"
     ]
    }
   ],
   "source": [
    "# Reading from a file line by line and storing in a list\n",
    "lines = []\n",
    "with open(\"file.txt\", \"r\") as file:\n",
    "    for line in file:\n",
    "        lines.append(line)\n",
    "print(lines)"
   ]
  },
  {
   "cell_type": "code",
   "execution_count": 101,
   "metadata": {},
   "outputs": [],
   "source": [
    "# Write a csv file\n",
    "import csv\n",
    "data = [[\"Name\", \"Age\"], [\"John\", 25], [\"Alice\", 30], [\"Bob\", 35]]\n",
    "with open(\"data.csv\", \"w\") as file:\n",
    "    writer = csv.writer(file)\n",
    "    writer.writerows(data)\n",
    "\n",
    "# or \n",
    "\n",
    "with open(\"data.csv\", \"w\") as file:\n",
    "    for row in data:\n",
    "        for item in row:\n",
    "            file.write(str(item) + \",\")\n",
    "        file.write(\"\\n\")\n",
    "        "
   ]
  },
  {
   "cell_type": "code",
   "execution_count": 102,
   "metadata": {},
   "outputs": [
    {
     "name": "stdout",
     "output_type": "stream",
     "text": [
      "['Name', 'Age', '']\n",
      "['John', '25', '']\n",
      "['Alice', '30', '']\n",
      "['Bob', '35', '']\n",
      "\n",
      "['Name', 'Age', '']\n",
      "['John', '25', '']\n",
      "['Alice', '30', '']\n",
      "['Bob', '35', '']\n"
     ]
    }
   ],
   "source": [
    "# Read a csv file\n",
    "with open(\"data.csv\", \"r\") as file:\n",
    "    reader = csv.reader(file)\n",
    "    for row in reader:\n",
    "        print(row)\n",
    "print()\n",
    "# or\n",
    "\n",
    "with open(\"data.csv\", \"r\") as file:\n",
    "    for line in file:\n",
    "        print(line.strip().split(\",\"))"
   ]
  },
  {
   "cell_type": "markdown",
   "metadata": {},
   "source": [
    "## Pandas\n",
    "\n",
    "Pandas is a powerful data manipulation library for Python. It provides data structures and functions for working with structured data. The two main data structures in Pandas are the `Series` and `DataFrame`.\n",
    "\n",
    "### Series\n",
    "\n",
    "A `Series` is a one-dimensional array that can hold any type of data. It is similar to a list or a dictionary, but with additional functionality.\n",
    "\n",
    "### DataFrame\n",
    "\n",
    "A `DataFrame` is a two-dimensional array that can hold any type of data. It is similar to a table or a spreadsheet, but with additional functionality."
   ]
  },
  {
   "cell_type": "code",
   "execution_count": 108,
   "metadata": {},
   "outputs": [
    {
     "name": "stdout",
     "output_type": "stream",
     "text": [
      "Collecting pandas\n",
      "  Downloading pandas-2.2.2-cp312-cp312-win_amd64.whl.metadata (19 kB)\n",
      "Collecting numpy>=1.26.0 (from pandas)\n",
      "  Downloading numpy-1.26.4-cp312-cp312-win_amd64.whl.metadata (61 kB)\n",
      "     ---------------------------------------- 0.0/61.0 kB ? eta -:--:--\n",
      "     ---------------------------------------- 0.0/61.0 kB ? eta -:--:--\n",
      "     ------------ ------------------------- 20.5/61.0 kB 320.0 kB/s eta 0:00:01\n",
      "     ------------------------- ------------ 41.0/61.0 kB 388.9 kB/s eta 0:00:01\n",
      "     -------------------------------------- 61.0/61.0 kB 540.4 kB/s eta 0:00:00\n",
      "Requirement already satisfied: python-dateutil>=2.8.2 in c:\\users\\kwj06\\appdata\\roaming\\python\\python312\\site-packages (from pandas) (2.9.0.post0)\n",
      "Collecting pytz>=2020.1 (from pandas)\n",
      "  Downloading pytz-2024.1-py2.py3-none-any.whl.metadata (22 kB)\n",
      "Collecting tzdata>=2022.7 (from pandas)\n",
      "  Downloading tzdata-2024.1-py2.py3-none-any.whl.metadata (1.4 kB)\n",
      "Requirement already satisfied: six>=1.5 in c:\\users\\kwj06\\appdata\\roaming\\python\\python312\\site-packages (from python-dateutil>=2.8.2->pandas) (1.16.0)\n",
      "Downloading pandas-2.2.2-cp312-cp312-win_amd64.whl (11.5 MB)\n",
      "   ---------------------------------------- 0.0/11.5 MB ? eta -:--:--\n",
      "    --------------------------------------- 0.2/11.5 MB 5.3 MB/s eta 0:00:03\n",
      "   - -------------------------------------- 0.4/11.5 MB 4.6 MB/s eta 0:00:03\n",
      "   - -------------------------------------- 0.6/11.5 MB 4.3 MB/s eta 0:00:03\n",
      "   -- ------------------------------------- 0.7/11.5 MB 4.3 MB/s eta 0:00:03\n",
      "   --- ------------------------------------ 0.9/11.5 MB 4.2 MB/s eta 0:00:03\n",
      "   --- ------------------------------------ 1.1/11.5 MB 4.1 MB/s eta 0:00:03\n",
      "   ---- ----------------------------------- 1.3/11.5 MB 4.1 MB/s eta 0:00:03\n",
      "   ----- ---------------------------------- 1.5/11.5 MB 4.1 MB/s eta 0:00:03\n",
      "   ----- ---------------------------------- 1.7/11.5 MB 4.2 MB/s eta 0:00:03\n",
      "   ------ --------------------------------- 1.9/11.5 MB 4.2 MB/s eta 0:00:03\n",
      "   ------- -------------------------------- 2.0/11.5 MB 4.0 MB/s eta 0:00:03\n",
      "   ------- -------------------------------- 2.2/11.5 MB 4.0 MB/s eta 0:00:03\n",
      "   -------- ------------------------------- 2.4/11.5 MB 4.1 MB/s eta 0:00:03\n",
      "   -------- ------------------------------- 2.6/11.5 MB 4.1 MB/s eta 0:00:03\n",
      "   --------- ------------------------------ 2.7/11.5 MB 4.1 MB/s eta 0:00:03\n",
      "   ---------- ----------------------------- 2.9/11.5 MB 4.1 MB/s eta 0:00:03\n",
      "   ---------- ----------------------------- 3.1/11.5 MB 4.1 MB/s eta 0:00:03\n",
      "   ----------- ---------------------------- 3.3/11.5 MB 4.1 MB/s eta 0:00:02\n",
      "   ------------ --------------------------- 3.5/11.5 MB 4.1 MB/s eta 0:00:02\n",
      "   ------------ --------------------------- 3.7/11.5 MB 4.1 MB/s eta 0:00:02\n",
      "   ------------- -------------------------- 3.9/11.5 MB 4.1 MB/s eta 0:00:02\n",
      "   -------------- ------------------------- 4.1/11.5 MB 4.1 MB/s eta 0:00:02\n",
      "   -------------- ------------------------- 4.3/11.5 MB 4.1 MB/s eta 0:00:02\n",
      "   --------------- ------------------------ 4.5/11.5 MB 4.1 MB/s eta 0:00:02\n",
      "   ---------------- ----------------------- 4.7/11.5 MB 4.1 MB/s eta 0:00:02\n",
      "   ---------------- ----------------------- 4.9/11.5 MB 4.1 MB/s eta 0:00:02\n",
      "   ----------------- ---------------------- 5.1/11.5 MB 4.1 MB/s eta 0:00:02\n",
      "   ------------------ --------------------- 5.3/11.5 MB 4.1 MB/s eta 0:00:02\n",
      "   ------------------ --------------------- 5.4/11.5 MB 4.1 MB/s eta 0:00:02\n",
      "   ------------------- -------------------- 5.6/11.5 MB 4.1 MB/s eta 0:00:02\n",
      "   -------------------- ------------------- 5.8/11.5 MB 4.1 MB/s eta 0:00:02\n",
      "   -------------------- ------------------- 6.0/11.5 MB 4.1 MB/s eta 0:00:02\n",
      "   --------------------- ------------------ 6.2/11.5 MB 4.1 MB/s eta 0:00:02\n",
      "   ---------------------- ----------------- 6.4/11.5 MB 4.1 MB/s eta 0:00:02\n",
      "   ---------------------- ----------------- 6.6/11.5 MB 4.1 MB/s eta 0:00:02\n",
      "   ----------------------- ---------------- 6.8/11.5 MB 4.1 MB/s eta 0:00:02\n",
      "   ------------------------ --------------- 7.0/11.5 MB 4.1 MB/s eta 0:00:02\n",
      "   ------------------------ --------------- 7.2/11.5 MB 4.1 MB/s eta 0:00:02\n",
      "   ------------------------- -------------- 7.4/11.5 MB 4.1 MB/s eta 0:00:02\n",
      "   -------------------------- ------------- 7.6/11.5 MB 4.1 MB/s eta 0:00:01\n",
      "   -------------------------- ------------- 7.8/11.5 MB 4.1 MB/s eta 0:00:01\n",
      "   --------------------------- ------------ 7.9/11.5 MB 4.1 MB/s eta 0:00:01\n",
      "   ---------------------------- ----------- 8.1/11.5 MB 4.1 MB/s eta 0:00:01\n",
      "   ---------------------------- ----------- 8.3/11.5 MB 4.1 MB/s eta 0:00:01\n",
      "   ----------------------------- ---------- 8.6/11.5 MB 4.2 MB/s eta 0:00:01\n",
      "   ------------------------------ --------- 8.8/11.5 MB 4.1 MB/s eta 0:00:01\n",
      "   ------------------------------- -------- 9.1/11.5 MB 4.1 MB/s eta 0:00:01\n",
      "   -------------------------------- ------- 9.3/11.5 MB 4.1 MB/s eta 0:00:01\n",
      "   --------------------------------- ------ 9.6/11.5 MB 4.1 MB/s eta 0:00:01\n",
      "   ---------------------------------- ----- 9.9/11.5 MB 4.1 MB/s eta 0:00:01\n",
      "   ----------------------------------- ---- 10.1/11.5 MB 4.1 MB/s eta 0:00:01\n",
      "   ----------------------------------- ---- 10.3/11.5 MB 4.1 MB/s eta 0:00:01\n",
      "   ------------------------------------ --- 10.5/11.5 MB 4.1 MB/s eta 0:00:01\n",
      "   ------------------------------------- -- 10.7/11.5 MB 4.1 MB/s eta 0:00:01\n",
      "   ------------------------------------- -- 10.9/11.5 MB 4.1 MB/s eta 0:00:01\n",
      "   -------------------------------------- - 11.1/11.5 MB 4.1 MB/s eta 0:00:01\n",
      "   ---------------------------------------  11.3/11.5 MB 4.1 MB/s eta 0:00:01\n",
      "   ---------------------------------------  11.4/11.5 MB 4.1 MB/s eta 0:00:01\n",
      "   ---------------------------------------- 11.5/11.5 MB 4.1 MB/s eta 0:00:00\n",
      "Downloading numpy-1.26.4-cp312-cp312-win_amd64.whl (15.5 MB)\n",
      "   ---------------------------------------- 0.0/15.5 MB ? eta -:--:--\n",
      "    --------------------------------------- 0.2/15.5 MB 6.6 MB/s eta 0:00:03\n",
      "   - -------------------------------------- 0.4/15.5 MB 5.0 MB/s eta 0:00:04\n",
      "   - -------------------------------------- 0.6/15.5 MB 4.7 MB/s eta 0:00:04\n",
      "   -- ------------------------------------- 0.8/15.5 MB 4.6 MB/s eta 0:00:04\n",
      "   -- ------------------------------------- 1.0/15.5 MB 4.4 MB/s eta 0:00:04\n",
      "   --- ------------------------------------ 1.2/15.5 MB 4.4 MB/s eta 0:00:04\n",
      "   --- ------------------------------------ 1.4/15.5 MB 4.4 MB/s eta 0:00:04\n",
      "   --- ------------------------------------ 1.5/15.5 MB 4.3 MB/s eta 0:00:04\n",
      "   ---- ----------------------------------- 1.7/15.5 MB 4.3 MB/s eta 0:00:04\n",
      "   ----- ---------------------------------- 1.9/15.5 MB 4.3 MB/s eta 0:00:04\n",
      "   ----- ---------------------------------- 2.1/15.5 MB 4.2 MB/s eta 0:00:04\n",
      "   ----- ---------------------------------- 2.3/15.5 MB 4.2 MB/s eta 0:00:04\n",
      "   ------ --------------------------------- 2.5/15.5 MB 4.2 MB/s eta 0:00:04\n",
      "   ------ --------------------------------- 2.7/15.5 MB 4.3 MB/s eta 0:00:03\n",
      "   ------- -------------------------------- 2.9/15.5 MB 4.3 MB/s eta 0:00:03\n",
      "   ------- -------------------------------- 3.1/15.5 MB 4.3 MB/s eta 0:00:03\n",
      "   -------- ------------------------------- 3.3/15.5 MB 4.3 MB/s eta 0:00:03\n",
      "   --------- ------------------------------ 3.5/15.5 MB 4.2 MB/s eta 0:00:03\n",
      "   --------- ------------------------------ 3.7/15.5 MB 4.2 MB/s eta 0:00:03\n",
      "   ---------- ----------------------------- 3.9/15.5 MB 4.2 MB/s eta 0:00:03\n",
      "   ---------- ----------------------------- 4.2/15.5 MB 4.2 MB/s eta 0:00:03\n",
      "   ----------- ---------------------------- 4.5/15.5 MB 4.2 MB/s eta 0:00:03\n",
      "   ------------ --------------------------- 4.7/15.5 MB 4.2 MB/s eta 0:00:03\n",
      "   ------------ --------------------------- 4.9/15.5 MB 4.2 MB/s eta 0:00:03\n",
      "   ------------- -------------------------- 5.1/15.5 MB 4.2 MB/s eta 0:00:03\n",
      "   ------------- -------------------------- 5.3/15.5 MB 4.2 MB/s eta 0:00:03\n",
      "   -------------- ------------------------- 5.5/15.5 MB 4.2 MB/s eta 0:00:03\n",
      "   -------------- ------------------------- 5.6/15.5 MB 4.2 MB/s eta 0:00:03\n",
      "   --------------- ------------------------ 5.8/15.5 MB 4.2 MB/s eta 0:00:03\n",
      "   --------------- ------------------------ 6.0/15.5 MB 4.2 MB/s eta 0:00:03\n",
      "   ---------------- ----------------------- 6.2/15.5 MB 4.2 MB/s eta 0:00:03\n",
      "   ---------------- ----------------------- 6.4/15.5 MB 4.2 MB/s eta 0:00:03\n",
      "   ----------------- ---------------------- 6.6/15.5 MB 4.2 MB/s eta 0:00:03\n",
      "   ----------------- ---------------------- 6.8/15.5 MB 4.2 MB/s eta 0:00:03\n",
      "   ------------------ --------------------- 7.0/15.5 MB 4.2 MB/s eta 0:00:03\n",
      "   ------------------ --------------------- 7.2/15.5 MB 4.2 MB/s eta 0:00:02\n",
      "   ------------------- -------------------- 7.4/15.5 MB 4.2 MB/s eta 0:00:02\n",
      "   ------------------- -------------------- 7.6/15.5 MB 4.2 MB/s eta 0:00:02\n",
      "   ------------------- -------------------- 7.8/15.5 MB 4.2 MB/s eta 0:00:02\n",
      "   -------------------- ------------------- 8.0/15.5 MB 4.2 MB/s eta 0:00:02\n",
      "   -------------------- ------------------- 8.1/15.5 MB 4.2 MB/s eta 0:00:02\n",
      "   --------------------- ------------------ 8.3/15.5 MB 4.2 MB/s eta 0:00:02\n",
      "   --------------------- ------------------ 8.5/15.5 MB 4.2 MB/s eta 0:00:02\n",
      "   ---------------------- ----------------- 8.7/15.5 MB 4.2 MB/s eta 0:00:02\n",
      "   ---------------------- ----------------- 8.9/15.5 MB 4.2 MB/s eta 0:00:02\n",
      "   ----------------------- ---------------- 9.1/15.5 MB 4.2 MB/s eta 0:00:02\n",
      "   ----------------------- ---------------- 9.3/15.5 MB 4.2 MB/s eta 0:00:02\n",
      "   ------------------------ --------------- 9.5/15.5 MB 4.2 MB/s eta 0:00:02\n",
      "   ------------------------ --------------- 9.7/15.5 MB 4.2 MB/s eta 0:00:02\n",
      "   ------------------------- -------------- 9.9/15.5 MB 4.2 MB/s eta 0:00:02\n",
      "   ------------------------- -------------- 10.0/15.5 MB 4.2 MB/s eta 0:00:02\n",
      "   -------------------------- ------------- 10.3/15.5 MB 4.2 MB/s eta 0:00:02\n",
      "   -------------------------- ------------- 10.4/15.5 MB 4.2 MB/s eta 0:00:02\n",
      "   --------------------------- ------------ 10.6/15.5 MB 4.2 MB/s eta 0:00:02\n",
      "   ---------------------------- ----------- 10.9/15.5 MB 4.2 MB/s eta 0:00:02\n",
      "   ---------------------------- ----------- 11.2/15.5 MB 4.2 MB/s eta 0:00:02\n",
      "   ----------------------------- ---------- 11.4/15.5 MB 4.2 MB/s eta 0:00:01\n",
      "   ----------------------------- ---------- 11.6/15.5 MB 4.2 MB/s eta 0:00:01\n",
      "   ------------------------------ --------- 11.6/15.5 MB 4.2 MB/s eta 0:00:01\n",
      "   ------------------------------ --------- 11.6/15.5 MB 4.2 MB/s eta 0:00:01\n",
      "   ------------------------------ --------- 12.0/15.5 MB 4.1 MB/s eta 0:00:01\n",
      "   ------------------------------- -------- 12.2/15.5 MB 4.1 MB/s eta 0:00:01\n",
      "   -------------------------------- ------- 12.4/15.5 MB 4.1 MB/s eta 0:00:01\n",
      "   -------------------------------- ------- 12.7/15.5 MB 4.1 MB/s eta 0:00:01\n",
      "   --------------------------------- ------ 12.9/15.5 MB 4.1 MB/s eta 0:00:01\n",
      "   --------------------------------- ------ 13.1/15.5 MB 4.1 MB/s eta 0:00:01\n",
      "   ---------------------------------- ----- 13.3/15.5 MB 4.1 MB/s eta 0:00:01\n",
      "   ---------------------------------- ----- 13.4/15.5 MB 4.1 MB/s eta 0:00:01\n",
      "   ----------------------------------- ---- 13.6/15.5 MB 4.1 MB/s eta 0:00:01\n",
      "   ----------------------------------- ---- 13.8/15.5 MB 4.1 MB/s eta 0:00:01\n",
      "   ------------------------------------ --- 14.0/15.5 MB 4.1 MB/s eta 0:00:01\n",
      "   ------------------------------------ --- 14.2/15.5 MB 4.1 MB/s eta 0:00:01\n",
      "   ------------------------------------- -- 14.4/15.5 MB 4.1 MB/s eta 0:00:01\n",
      "   ------------------------------------- -- 14.6/15.5 MB 4.1 MB/s eta 0:00:01\n",
      "   -------------------------------------- - 14.8/15.5 MB 4.1 MB/s eta 0:00:01\n",
      "   -------------------------------------- - 15.0/15.5 MB 4.1 MB/s eta 0:00:01\n",
      "   ---------------------------------------  15.2/15.5 MB 4.1 MB/s eta 0:00:01\n",
      "   ---------------------------------------  15.4/15.5 MB 4.1 MB/s eta 0:00:01\n",
      "   ---------------------------------------  15.5/15.5 MB 4.1 MB/s eta 0:00:01\n",
      "   ---------------------------------------- 15.5/15.5 MB 4.0 MB/s eta 0:00:00\n",
      "Downloading pytz-2024.1-py2.py3-none-any.whl (505 kB)\n",
      "   ---------------------------------------- 0.0/505.5 kB ? eta -:--:--\n",
      "   --------------- ------------------------ 194.6/505.5 kB 3.9 MB/s eta 0:00:01\n",
      "   -------------------------------- ------- 409.6/505.5 kB 4.2 MB/s eta 0:00:01\n",
      "   ---------------------------------------- 505.5/505.5 kB 4.0 MB/s eta 0:00:00\n",
      "Downloading tzdata-2024.1-py2.py3-none-any.whl (345 kB)\n",
      "   ---------------------------------------- 0.0/345.4 kB ? eta -:--:--\n",
      "   ---------------------- ----------------- 194.6/345.4 kB 5.8 MB/s eta 0:00:01\n",
      "   ---------------------------------------  337.9/345.4 kB 4.2 MB/s eta 0:00:01\n",
      "   ---------------------------------------- 345.4/345.4 kB 3.6 MB/s eta 0:00:00\n",
      "Installing collected packages: pytz, tzdata, numpy, pandas\n",
      "Successfully installed numpy-1.26.4 pandas-2.2.2 pytz-2024.1 tzdata-2024.1\n"
     ]
    }
   ],
   "source": [
    "# Install pandas\n",
    "# !: run it in the terminal\n",
    "!pip install pandas "
   ]
  },
  {
   "cell_type": "code",
   "execution_count": 109,
   "metadata": {},
   "outputs": [
    {
     "name": "stdout",
     "output_type": "stream",
     "text": [
      "    Name  Age         City\n",
      "0   John   25     New York\n",
      "1   Jane   30  Los Angeles\n",
      "2  Alice   35      Chicago\n",
      "3    Bob   40      Houston\n"
     ]
    }
   ],
   "source": [
    "import pandas as pd\n",
    "\n",
    "# Creating a DataFrame\n",
    "data = {\n",
    "    \"Name\": [\"John\", \"Jane\", \"Alice\", \"Bob\"],\n",
    "    \"Age\": [25, 30, 35, 40],\n",
    "    \"City\": [\"New York\", \"Los Angeles\", \"Chicago\", \"Houston\"]\n",
    "}\n",
    "df = pd.DataFrame(data)\n",
    "print(df)"
   ]
  },
  {
   "cell_type": "code",
   "execution_count": null,
   "metadata": {},
   "outputs": [],
   "source": [
    "# Accessing elements\n",
    "print(df[\"Name\"])\n",
    "print()\n",
    "print(df[\"Name\"][0])\n",
    "print()\n",
    "print(df.iloc[0])\n",
    "print()\n",
    "print(df.Name.tolist())"
   ]
  },
  {
   "cell_type": "code",
   "execution_count": null,
   "metadata": {},
   "outputs": [],
   "source": [
    "# Adding elements\n",
    "df[\"Country\"] = [\"USA\", \"USA\", \"USA\", \"USA\"]\n",
    "print(df)"
   ]
  },
  {
   "cell_type": "code",
   "execution_count": null,
   "metadata": {},
   "outputs": [],
   "source": [
    "# Removing elements\n",
    "df.drop(\"Country\", axis=1, inplace=True)\n",
    "# axis=1 for column, axis=0 for row\n",
    "# inplace=True to modify the original DataFrame\n",
    "print(df)"
   ]
  },
  {
   "cell_type": "code",
   "execution_count": null,
   "metadata": {},
   "outputs": [],
   "source": [
    "# DataFrame Functions\n",
    "print(df.shape)\n",
    "print(df.columns)\n",
    "print(df.index)\n",
    "print(df.head(n=2))\n",
    "print(df.tail(n=2))"
   ]
  },
  {
   "cell_type": "code",
   "execution_count": null,
   "metadata": {},
   "outputs": [],
   "source": [
    "# Looping through a DataFrame\n",
    "for index, row in df.iterrows():\n",
    "    print(index, row[\"Name\"], row[\"Age\"], row[\"City\"])"
   ]
  },
  {
   "cell_type": "code",
   "execution_count": null,
   "metadata": {},
   "outputs": [],
   "source": [
    "# Reading from a CSV file\n",
    "df = pd.read_csv(\"data.csv\")\n",
    "print(df.head())"
   ]
  },
  {
   "cell_type": "markdown",
   "metadata": {},
   "source": [
    "## Class Exercise\n",
    "1. Create a class schedule using a dictionary, where the keys are the days of the week and the values are lists of classes. Then print out the classes given a specific day\n",
    "2. Using the Pandas library, read a CSV file and display the data in a table format. Then filter the data based on certain criteria and display the flitered data. "
   ]
  }
 ],
 "metadata": {
  "kernelspec": {
   "display_name": "Python 3",
   "language": "python",
   "name": "python3"
  },
  "language_info": {
   "codemirror_mode": {
    "name": "ipython",
    "version": 3
   },
   "file_extension": ".py",
   "mimetype": "text/x-python",
   "name": "python",
   "nbconvert_exporter": "python",
   "pygments_lexer": "ipython3",
   "version": "3.11.0"
  }
 },
 "nbformat": 4,
 "nbformat_minor": 2
}
