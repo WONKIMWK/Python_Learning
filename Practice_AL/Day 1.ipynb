{
 "cells": [
  {
   "cell_type": "markdown",
   "metadata": {},
   "source": [
    "# Introduction to Python\n",
    "\n",
    "Concepts:\n",
    "* Understanding the basic syntax of Python\n",
    "* Variables and data types\n",
    "* Basic operations\n",
    "* Print Statements"
   ]
  },
  {
   "cell_type": "code",
   "execution_count": null,
   "metadata": {},
   "outputs": [],
   "source": [
    "print(\"Hello World!\")"
   ]
  },
  {
   "cell_type": "markdown",
   "metadata": {},
   "source": [
    "* (Mine) Just in case you want to add more space for MD or Code\n",
    "* ==> Hit + Code or + Markdown"
   ]
  },
  {
   "cell_type": "code",
   "execution_count": null,
   "metadata": {},
   "outputs": [],
   "source": [
    "print(\"This is what I want to do\")"
   ]
  },
  {
   "cell_type": "markdown",
   "metadata": {},
   "source": [
    "## Basic Syntax\n",
    "\n",
    "Python is a highly readable language that uses English keywords frequently where other languages use punctuation. With this, the syntax of Python is simple and easy to learn.\n",
    "\n",
    "* Case Sensitivity: Python is case-sensitive. So, `a` and `A` are different.\n",
    "* Indentation: Python uses indentation to define the structure of the code. It is recommended to use 4 spaces for indentation in Python.\n",
    "    * Conditional Statements\n",
    "    ```text\n",
    "    if a is greater than b:\n",
    "        run this code\n",
    "    ```\n",
    "    * Loops\n",
    "    ```text\n",
    "    for each element in the list:\n",
    "        run this code\n",
    "    ```\n",
    "    * Function Definitions\n",
    "    ```text\n",
    "    this function does something:\n",
    "        run this code\n",
    "    ```\n",
    "* Comments: Comments are used to explain the code. In Python, comments start with a `#` symbol.\n",
    "```text\n",
    "# This is a comment\n",
    "```"
   ]
  },
  {
   "cell_type": "markdown",
   "metadata": {},
   "source": [
    "## Variables and Data Types\n",
    "\n",
    "Variables are used to store data values. Python has the following data types built-in by default:\n",
    "* Text Type: `str`\n",
    "* Numeric Types: `int`, `float`, `complex`\n",
    "* Sequence Types: `list`, `tuple`, `range`\n",
    "* Mapping Type: `dict`\n",
    "* Set Types: `set`, `frozenset`\n",
    "* Boolean Type: `bool` (True or False)\n",
    "\n",
    "Variables can be declared and values can be assigned to them as follows:\n",
    "```python\n",
    "variable_name = value\n",
    "```"
   ]
  },
  {
   "cell_type": "code",
   "execution_count": null,
   "metadata": {},
   "outputs": [],
   "source": [
    "This_is_a_Var = \"Won's Code inside\""
   ]
  },
  {
   "cell_type": "code",
   "execution_count": null,
   "metadata": {},
   "outputs": [],
   "source": [
    "string_variable = \"I am a string\"\n",
    "integer_variable = 42\n",
    "float_variable = 3.14\n",
    "float_variable_another = 3.\n",
    "boolean_variable = True # or you can type False"
   ]
  },
  {
   "cell_type": "markdown",
   "metadata": {},
   "source": [
    "We can also check the type of a variable using the `type()` function.\n",
    "```python\n",
    "type(variable_name)\n",
    "```"
   ]
  },
  {
   "cell_type": "code",
   "execution_count": null,
   "metadata": {},
   "outputs": [],
   "source": [
    "type(string_variable)"
   ]
  },
  {
   "cell_type": "code",
   "execution_count": null,
   "metadata": {},
   "outputs": [],
   "source": [
    "type(integer_variable)"
   ]
  },
  {
   "cell_type": "code",
   "execution_count": null,
   "metadata": {},
   "outputs": [],
   "source": [
    "type(float_variable)"
   ]
  },
  {
   "cell_type": "code",
   "execution_count": null,
   "metadata": {},
   "outputs": [],
   "source": [
    "type(boolean_variable)"
   ]
  },
  {
   "cell_type": "markdown",
   "metadata": {},
   "source": [
    "## Basic Operations\n",
    "\n",
    "Python supports the following basic operations:\n",
    "* Arithmetic Operators: `+`, `-`, `*`, `/`, `//`, `%`, `**`\n",
    "* Comparison Operators: `==`, `!=`, `>`, `<`, `>=`, `<=`\n",
    "* Logical Operators: `and`, `or`, `not`\n",
    "* Assignment Operators: `=`, `+=`, `-=`, `*=`, `/=`, `%=`, `//=`, `**=`\n",
    "* Logical Statements: `if`, `elif`, `else`"
   ]
  },
  {
   "cell_type": "code",
   "execution_count": null,
   "metadata": {},
   "outputs": [],
   "source": [
    "a = 10\n",
    "b = 20\n",
    "print(a + b) # plus\n",
    "print(a - b) # minus\n",
    "print(a * b) # multiply\n",
    "print(a / b) # division\n",
    "print(a // b) # rounds down\n",
    "print(a % b) # returns remainder back\n",
    "print(a ** b) # power (a to the power b)"
   ]
  },
  {
   "cell_type": "code",
   "execution_count": null,
   "metadata": {},
   "outputs": [],
   "source": [
    "print(a == b) # Comparision: equal to\n",
    "print(a != b) # not equal to\n",
    "print(a > b) # greater than\n",
    "print(a < b) # less than\n",
    "print(a >= b) # geq\n",
    "print(a <= b) # leq"
   ]
  },
  {
   "cell_type": "code",
   "execution_count": null,
   "metadata": {},
   "outputs": [],
   "source": [
    "if 5 < 4:\n",
    "    print(\"greater than\")\n",
    "else:\n",
    "    print(\"less than\")"
   ]
  },
  {
   "cell_type": "code",
   "execution_count": null,
   "metadata": {},
   "outputs": [],
   "source": [
    "# Logical Operator\n",
    "print(True and True)\n",
    "print(True and False)\n",
    "print(False and False)\n",
    "print(True or True)\n",
    "print(True or False)\n",
    "print(False or False)"
   ]
  },
  {
   "cell_type": "code",
   "execution_count": null,
   "metadata": {},
   "outputs": [],
   "source": [
    "# Take the value and add some (Assignment operator)\n",
    "c = 5\n",
    "print(\"Add 1\")\n",
    "c += 1\n",
    "print(c)\n",
    "\n",
    "print(\"Subtract 1\")\n",
    "c -= 1\n",
    "print(c)\n",
    "\n",
    "print(\"Multiply 2\")\n",
    "c *= 2\n",
    "print(c)\n",
    "\n",
    "c /= 2\n",
    "print(c)\n",
    "c //= 2\n",
    "print(c)\n",
    "c **= 2\n",
    "print(c)\n",
    "c %= 2\n",
    "print(c)"
   ]
  },
  {
   "cell_type": "code",
   "execution_count": null,
   "metadata": {},
   "outputs": [],
   "source": [
    "if False:\n",
    "    print(\"I am true\")\n",
    "else:\n",
    "    print(\"I am false\")\n",
    "print(\"I am outside of the tree\")"
   ]
  },
  {
   "cell_type": "code",
   "execution_count": null,
   "metadata": {},
   "outputs": [],
   "source": [
    "if False:\n",
    "    print(\"I am the first true\")\n",
    "elif False:\n",
    "    print(\"I am the second truth\")\n",
    "elif True:\n",
    "    print(\"I am the third truth\")\n",
    "else:\n",
    "    print(\"Nothing else was true\")\n",
    "    print(\"This is the End\")"
   ]
  },
  {
   "cell_type": "code",
   "execution_count": null,
   "metadata": {},
   "outputs": [],
   "source": [
    "# Checking if the number is even or odd\n",
    "\n",
    "# Making variable\n",
    "mynumber = 455\n",
    "\n",
    "# Print the number if even or odd\n",
    "if mynumber % 2 == 0:\n",
    "    print(\"even\")\n",
    "else: \n",
    "    print(\"odd\")"
   ]
  },
  {
   "cell_type": "code",
   "execution_count": 6,
   "metadata": {},
   "outputs": [
    {
     "name": "stdout",
     "output_type": "stream",
     "text": [
      "10.67\n",
      "42 quarters\n",
      "0.6699999999999999\n",
      "6 dimes\n",
      "0.06999999999999984\n",
      "1 nickels\n",
      "0.019999999999999837\n",
      "2 cents\n"
     ]
    }
   ],
   "source": [
    "# Converthing currencies\n",
    "\n",
    "## Inaccurate calculation under decimals. Work on it with integers....\n",
    "\n",
    "Mydollars = 10.67\n",
    "print(Mydollars)\n",
    "Coins = int(Mydollars // 0.25)\n",
    "print(Coins, \"quarters\")\n",
    "\n",
    "Mydollars -= int(Coins * 0.25) # Remainder devided by 0.25\n",
    "print(Mydollars)\n",
    "Coins = int(Mydollars // 0.1)\n",
    "print(Coins, \"dimes\")\n",
    "\n",
    "Mydollars -= Coins * 0.1 # Remainder devided by 0.1\n",
    "print(Mydollars)\n",
    "Coins = int(Mydollars // 0.05)\n",
    "print(Coins, \"nickels\")\n",
    "\n",
    "Mydollars -= Coins * 0.05 # Remainder devided by 0.05\n",
    "print(Mydollars)\n",
    "Coins = round(Mydollars / 0.01)\n",
    "print(Coins, \"cents\")\n",
    "\n"
   ]
  }
 ],
 "metadata": {
  "kernelspec": {
   "display_name": "Python 3",
   "language": "python",
   "name": "python3"
  },
  "language_info": {
   "codemirror_mode": {
    "name": "ipython",
    "version": 3
   },
   "file_extension": ".py",
   "mimetype": "text/x-python",
   "name": "python",
   "nbconvert_exporter": "python",
   "pygments_lexer": "ipython3",
   "version": "3.12.4"
  }
 },
 "nbformat": 4,
 "nbformat_minor": 2
}
