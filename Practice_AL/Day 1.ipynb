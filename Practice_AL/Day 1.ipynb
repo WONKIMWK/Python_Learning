{
 "cells": [
  {
   "cell_type": "markdown",
   "metadata": {},
   "source": [
    "# Introduction to Python\n",
    "\n",
    "Concepts:\n",
    "* Understanding the basic syntax of Python\n",
    "* Variables and data types\n",
    "* Basic operations\n",
    "* Print Statements"
   ]
  },
  {
   "cell_type": "code",
   "execution_count": 7,
   "metadata": {},
   "outputs": [
    {
     "name": "stdout",
     "output_type": "stream",
     "text": [
      "Hello World!\n"
     ]
    }
   ],
   "source": [
    "print(\"Hello World!\")"
   ]
  },
  {
   "cell_type": "markdown",
   "metadata": {},
   "source": [
    "* (Mine) Just in case you want to add more space for MD or Code\n",
    "* ==> Hit + Code or + Markdown"
   ]
  },
  {
   "cell_type": "code",
   "execution_count": 8,
   "metadata": {},
   "outputs": [
    {
     "name": "stdout",
     "output_type": "stream",
     "text": [
      "This is what I want to do\n"
     ]
    }
   ],
   "source": [
    "print(\"This is what I want to do\")"
   ]
  },
  {
   "cell_type": "markdown",
   "metadata": {},
   "source": [
    "## Basic Syntax\n",
    "\n",
    "Python is a highly readable language that uses English keywords frequently where other languages use punctuation. With this, the syntax of Python is simple and easy to learn.\n",
    "\n",
    "* Case Sensitivity: Python is case-sensitive. So, `a` and `A` are different.\n",
    "* Indentation: Python uses indentation to define the structure of the code. It is recommended to use 4 spaces for indentation in Python.\n",
    "    * Conditional Statements\n",
    "    ```text\n",
    "    if a is greater than b:\n",
    "        run this code\n",
    "    ```\n",
    "    * Loops\n",
    "    ```text\n",
    "    for each element in the list:\n",
    "        run this code\n",
    "    ```\n",
    "    * Function Definitions\n",
    "    ```text\n",
    "    this function does something:\n",
    "        run this code\n",
    "    ```\n",
    "* Comments: Comments are used to explain the code. In Python, comments start with a `#` symbol.\n",
    "```text\n",
    "# This is a comment\n",
    "```"
   ]
  },
  {
   "cell_type": "markdown",
   "metadata": {},
   "source": [
    "## Variables and Data Types\n",
    "\n",
    "Variables are used to store data values. Python has the following data types built-in by default:\n",
    "* Text Type: `str`\n",
    "* Numeric Types: `int`, `float`, `complex`\n",
    "* Sequence Types: `list`, `tuple`, `range`\n",
    "* Mapping Type: `dict`\n",
    "* Set Types: `set`, `frozenset`\n",
    "* Boolean Type: `bool` (True or False)\n",
    "\n",
    "Variables can be declared and values can be assigned to them as follows:\n",
    "```python\n",
    "variable_name = value\n",
    "```"
   ]
  },
  {
   "cell_type": "code",
   "execution_count": 10,
   "metadata": {},
   "outputs": [],
   "source": [
    "This_is_a_Var = \"Won's Code inside\""
   ]
  },
  {
   "cell_type": "code",
   "execution_count": 12,
   "metadata": {},
   "outputs": [],
   "source": [
    "string_variable = \"I am a string\"\n",
    "integer_variable = 42\n",
    "float_variable = 3.14\n",
    "float_variable_another = 3.\n",
    "boolean_variable = True # or you can type False"
   ]
  },
  {
   "cell_type": "markdown",
   "metadata": {},
   "source": [
    "We can also check the type of a variable using the `type()` function.\n",
    "```python\n",
    "type(variable_name)\n",
    "```"
   ]
  },
  {
   "cell_type": "code",
   "execution_count": 13,
   "metadata": {},
   "outputs": [
    {
     "data": {
      "text/plain": [
       "str"
      ]
     },
     "execution_count": 13,
     "metadata": {},
     "output_type": "execute_result"
    }
   ],
   "source": [
    "type(string_variable)"
   ]
  },
  {
   "cell_type": "code",
   "execution_count": 14,
   "metadata": {},
   "outputs": [
    {
     "data": {
      "text/plain": [
       "int"
      ]
     },
     "execution_count": 14,
     "metadata": {},
     "output_type": "execute_result"
    }
   ],
   "source": [
    "type(integer_variable)"
   ]
  },
  {
   "cell_type": "code",
   "execution_count": 15,
   "metadata": {},
   "outputs": [
    {
     "data": {
      "text/plain": [
       "float"
      ]
     },
     "execution_count": 15,
     "metadata": {},
     "output_type": "execute_result"
    }
   ],
   "source": [
    "type(float_variable)"
   ]
  },
  {
   "cell_type": "code",
   "execution_count": 16,
   "metadata": {},
   "outputs": [
    {
     "data": {
      "text/plain": [
       "bool"
      ]
     },
     "execution_count": 16,
     "metadata": {},
     "output_type": "execute_result"
    }
   ],
   "source": [
    "type(boolean_variable)"
   ]
  },
  {
   "cell_type": "markdown",
   "metadata": {},
   "source": [
    "## Basic Operations\n",
    "\n",
    "Python supports the following basic operations:\n",
    "* Arithmetic Operators: `+`, `-`, `*`, `/`, `//`, `%`, `**`\n",
    "* Comparison Operators: `==`, `!=`, `>`, `<`, `>=`, `<=`\n",
    "* Logical Operators: `and`, `or`, `not`\n",
    "* Assignment Operators: `=`, `+=`, `-=`, `*=`, `/=`, `%=`, `//=`, `**=`\n",
    "* Logical Statements: `if`, `elif`, `else`"
   ]
  },
  {
   "cell_type": "code",
   "execution_count": 17,
   "metadata": {},
   "outputs": [
    {
     "name": "stdout",
     "output_type": "stream",
     "text": [
      "30\n",
      "-10\n",
      "200\n",
      "0.5\n",
      "0\n",
      "10\n",
      "100000000000000000000\n"
     ]
    }
   ],
   "source": [
    "a = 10\n",
    "b = 20\n",
    "print(a + b) # plus\n",
    "print(a - b) # minus\n",
    "print(a * b) # multiply\n",
    "print(a / b) # division\n",
    "print(a // b) # rounds down\n",
    "print(a % b) # returns remainder back\n",
    "print(a ** b) # power (a to the power b)"
   ]
  },
  {
   "cell_type": "code",
   "execution_count": 18,
   "metadata": {},
   "outputs": [
    {
     "name": "stdout",
     "output_type": "stream",
     "text": [
      "False\n",
      "True\n",
      "False\n",
      "True\n",
      "False\n",
      "True\n"
     ]
    }
   ],
   "source": [
    "print(a == b) # Comparision: equal to\n",
    "print(a != b) # not equal to\n",
    "print(a > b) # greater than\n",
    "print(a < b) # less than\n",
    "print(a >= b) # geq\n",
    "print(a <= b) # leq"
   ]
  },
  {
   "cell_type": "code",
   "execution_count": 20,
   "metadata": {},
   "outputs": [
    {
     "name": "stdout",
     "output_type": "stream",
     "text": [
      "less than\n"
     ]
    }
   ],
   "source": [
    "if 5 < 4:\n",
    "    print(\"greater than\")\n",
    "else:\n",
    "    print(\"less than\")"
   ]
  },
  {
   "cell_type": "code",
   "execution_count": 21,
   "metadata": {},
   "outputs": [
    {
     "name": "stdout",
     "output_type": "stream",
     "text": [
      "True\n",
      "False\n",
      "False\n",
      "True\n",
      "True\n",
      "False\n"
     ]
    }
   ],
   "source": [
    "# Logical Operator\n",
    "print(True and True)\n",
    "print(True and False)\n",
    "print(False and False)\n",
    "print(True or True)\n",
    "print(True or False)\n",
    "print(False or False)"
   ]
  },
  {
   "cell_type": "code",
   "execution_count": 24,
   "metadata": {},
   "outputs": [
    {
     "name": "stdout",
     "output_type": "stream",
     "text": [
      "Add 1\n",
      "6\n",
      "Subtract 1\n",
      "5\n",
      "Multiply 2\n",
      "10\n",
      "5.0\n",
      "2.0\n",
      "4.0\n",
      "0.0\n"
     ]
    }
   ],
   "source": [
    "# Take the value and add some (Assignment operator)\n",
    "c = 5\n",
    "print(\"Add 1\")\n",
    "c += 1\n",
    "print(c)\n",
    "\n",
    "print(\"Subtract 1\")\n",
    "c -= 1\n",
    "print(c)\n",
    "\n",
    "print(\"Multiply 2\")\n",
    "c *= 2\n",
    "print(c)\n",
    "\n",
    "c /= 2\n",
    "print(c)\n",
    "c //= 2\n",
    "print(c)\n",
    "c **= 2\n",
    "print(c)\n",
    "c %= 2\n",
    "print(c)"
   ]
  },
  {
   "cell_type": "code",
   "execution_count": 27,
   "metadata": {},
   "outputs": [
    {
     "name": "stdout",
     "output_type": "stream",
     "text": [
      "I am false\n",
      "I am outside of the tree\n"
     ]
    }
   ],
   "source": [
    "if False:\n",
    "    print(\"I am true\")\n",
    "else:\n",
    "    print(\"I am false\")\n",
    "print(\"I am outside of the tree\")"
   ]
  },
  {
   "cell_type": "code",
   "execution_count": 34,
   "metadata": {},
   "outputs": [
    {
     "name": "stdout",
     "output_type": "stream",
     "text": [
      "I am the third truth\n"
     ]
    }
   ],
   "source": [
    "if False:\n",
    "    print(\"I am the first true\")\n",
    "elif False:\n",
    "    print(\"I am the second truth\")\n",
    "elif True:\n",
    "    print(\"I am the third truth\")\n",
    "else:\n",
    "    print(\"Nothing else was true\")\n",
    "    print(\"This is the End\")"
   ]
  },
  {
   "cell_type": "code",
   "execution_count": 36,
   "metadata": {},
   "outputs": [
    {
     "name": "stdout",
     "output_type": "stream",
     "text": [
      "odd\n"
     ]
    }
   ],
   "source": [
    "# Checking if the number is even or odd\n",
    "\n",
    "# Making variable\n",
    "mynumber = 455\n",
    "\n",
    "# Print the number if even or odd\n",
    "if mynumber % 2 == 0:\n",
    "    print(\"even\")\n",
    "else: \n",
    "    print(\"odd\")"
   ]
  },
  {
   "cell_type": "code",
   "execution_count": 65,
   "metadata": {},
   "outputs": [
    {
     "name": "stdout",
     "output_type": "stream",
     "text": [
      "0.0\n",
      "0.09999999999999945\n",
      "0.04999999999999945\n",
      "40.0 quarters\n",
      "0.0 dimes\n",
      "1.0 nickels\n",
      "4.0 cents\n"
     ]
    }
   ],
   "source": [
    "# Converthing currencies\n",
    "\n",
    "Mydollars = 10\n",
    "\n",
    "conv_quarter = Mydollars // 0.25\n",
    "conv_dime = (Mydollars % 0.25) // 0.1\n",
    "print(Mydollars % 0.25)\n",
    "conv_nickel = (Mydollars % 0.1) // 0.05\n",
    "print(Mydollars % 0.1)\n",
    "# conv_cent = (Mydollars % 0.05 ) // 0.01\n",
    "# print(Mydollars % 0.05)\n",
    "\n",
    "#print(conv_quarter, \"quarters\")\n",
    "#print(conv_dime, \"dimes\")\n",
    "#print(conv_nickel, \"nickels\")\n",
    "#print(conv_cent, \"cents\")\n",
    "\n"
   ]
  }
 ],
 "metadata": {
  "kernelspec": {
   "display_name": "Python 3",
   "language": "python",
   "name": "python3"
  },
  "language_info": {
   "codemirror_mode": {
    "name": "ipython",
    "version": 3
   },
   "file_extension": ".py",
   "mimetype": "text/x-python",
   "name": "python",
   "nbconvert_exporter": "python",
   "pygments_lexer": "ipython3",
   "version": "3.12.4"
  }
 },
 "nbformat": 4,
 "nbformat_minor": 2
}
